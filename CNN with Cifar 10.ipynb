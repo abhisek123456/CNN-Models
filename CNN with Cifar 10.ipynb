{
 "cells": [
  {
   "cell_type": "code",
   "execution_count": 12,
   "metadata": {},
   "outputs": [],
   "source": [
    "import tensorflow as tf \n",
    "from tensorflow import keras\n",
    "import warnings\n",
    "warnings.filterwarnings(action=\"ignore\")"
   ]
  },
  {
   "cell_type": "code",
   "execution_count": 3,
   "metadata": {},
   "outputs": [],
   "source": [
    "(train_img,train_labels),(test_img,test_labels)=keras.datasets.cifar10.load_data()"
   ]
  },
  {
   "cell_type": "code",
   "execution_count": 4,
   "metadata": {},
   "outputs": [],
   "source": [
    "train_img=train_img/255.0\n",
    "test_img=test_img/255.0"
   ]
  },
  {
   "cell_type": "code",
   "execution_count": 6,
   "metadata": {},
   "outputs": [
    {
     "data": {
      "text/plain": [
       "(50000, 32, 32, 3)"
      ]
     },
     "execution_count": 6,
     "metadata": {},
     "output_type": "execute_result"
    }
   ],
   "source": [
    "train_img.shape"
   ]
  },
  {
   "cell_type": "code",
   "execution_count": 7,
   "metadata": {},
   "outputs": [],
   "source": [
    "train_img=train_img.reshape(len(train_img),32,32,3)"
   ]
  },
  {
   "cell_type": "code",
   "execution_count": 8,
   "metadata": {},
   "outputs": [],
   "source": [
    "test_img=test_img.reshape(len(test_img),32,32,3)"
   ]
  },
  {
   "cell_type": "code",
   "execution_count": 9,
   "metadata": {},
   "outputs": [],
   "source": [
    "from kerastuner import RandomSearch\n",
    "from kerastuner.engine.hyperparameters import HyperParameters"
   ]
  },
  {
   "cell_type": "code",
   "execution_count": 21,
   "metadata": {},
   "outputs": [],
   "source": [
    "def build_model(hp):\n",
    "    CNN_model=keras.Sequential([\n",
    "        keras.layers.Conv2D(\n",
    "                            filters=hp.Int(\"Conv_1_filter\", min_value=32,max_value=128,step=16),\n",
    "                            kernel_size=hp.Choice(\"Conv_1_Kernel_size\",values=[3,5]),\n",
    "                            activation=\"relu\",\n",
    "                            input_shape=(32,32,3)),\n",
    "        keras.layers.Conv2D(\n",
    "                            filters=hp.Int(\"Conv_2_filter\", min_value=32,max_value=64,step=16),\n",
    "                            kernel_size=hp.Choice(\"Conv_2_Kernel_size\",values=[3,5]),\n",
    "                            activation=\"relu\"),\n",
    "        keras.layers.Flatten(),\n",
    "        keras.layers.Dense(\n",
    "                            units=hp.Int(\"Units\", min_value=32,max_value=128,step=16),\n",
    "                            activation=\"relu\",),\n",
    "        keras.layers.Dense(10,activation=\"softmax\")\n",
    "    ])\n",
    "    CNN_model.compile(optimizer=keras.optimizers.Adam(hp.Choice(\"Learning_Rate\",values=[.001,.0001])),\n",
    "                     loss=\"sparse_categorical_crossentropy\",\n",
    "                     metrics=[\"accuracy\"])\n",
    "    return CNN_model"
   ]
  },
  {
   "cell_type": "code",
   "execution_count": 22,
   "metadata": {},
   "outputs": [],
   "source": [
    "tuner_search=RandomSearch(hypermodel=build_model,\n",
    "                          objective=\"accuracy\",max_trials=2,\n",
    "                          directory=\"output\",project_name=\"Cifar10\")"
   ]
  },
  {
   "cell_type": "code",
   "execution_count": 23,
   "metadata": {},
   "outputs": [
    {
     "name": "stdout",
     "output_type": "stream",
     "text": [
      "\n",
      "Search: Running Trial #1\n",
      "\n",
      "Hyperparameter    |Value             |Best Value So Far \n",
      "Conv_1_filter     |80                |?                 \n",
      "Conv_1_Kernel_size|3                 |?                 \n",
      "Conv_2_filter     |32                |?                 \n",
      "Conv_2_Kernel_size|5                 |?                 \n",
      "Units             |80                |?                 \n",
      "Learning_Rate     |0.0001            |?                 \n",
      "\n",
      "Epoch 1/2\n",
      "1563/1563 [==============================] - 557s 356ms/step - loss: 1.7652 - accuracy: 0.3620\n",
      "Epoch 2/2\n",
      "1563/1563 [==============================] - 533s 341ms/step - loss: 1.2923 - accuracy: 0.5413\n",
      "\n",
      "Trial 1 Complete [00h 18m 11s]\n",
      "accuracy: 0.5550000071525574\n",
      "\n",
      "Best accuracy So Far: 0.5550000071525574\n",
      "Total elapsed time: 00h 18m 11s\n",
      "\n",
      "Search: Running Trial #2\n",
      "\n",
      "Hyperparameter    |Value             |Best Value So Far \n",
      "Conv_1_filter     |96                |80                \n",
      "Conv_1_Kernel_size|3                 |3                 \n",
      "Conv_2_filter     |48                |32                \n",
      "Conv_2_Kernel_size|3                 |5                 \n",
      "Units             |128               |80                \n",
      "Learning_Rate     |0.0001            |0.0001            \n",
      "\n",
      "Epoch 1/2\n",
      "1563/1563 [==============================] - 408s 261ms/step - loss: 1.7362 - accuracy: 0.3798\n",
      "Epoch 2/2\n",
      "1563/1563 [==============================] - 444s 284ms/step - loss: 1.2563 - accuracy: 0.5595\n",
      "\n",
      "Trial 2 Complete [00h 14m 13s]\n",
      "accuracy: 0.5672199726104736\n",
      "\n",
      "Best accuracy So Far: 0.5672199726104736\n",
      "Total elapsed time: 00h 32m 25s\n",
      "INFO:tensorflow:Oracle triggered exit\n"
     ]
    }
   ],
   "source": [
    "tuner_search.search(train_img,train_labels,epochs=2)"
   ]
  },
  {
   "cell_type": "code",
   "execution_count": 24,
   "metadata": {},
   "outputs": [],
   "source": [
    "model=tuner_search.get_best_models(num_models=1)[0]"
   ]
  },
  {
   "cell_type": "code",
   "execution_count": 25,
   "metadata": {},
   "outputs": [
    {
     "name": "stdout",
     "output_type": "stream",
     "text": [
      "Epoch 3/4\n",
      "1563/1563 [==============================] - 449s 287ms/step - loss: 1.1241 - accuracy: 0.6086\n",
      "Epoch 4/4\n",
      "1563/1563 [==============================] - 450s 288ms/step - loss: 1.0356 - accuracy: 0.6418\n"
     ]
    },
    {
     "data": {
      "text/plain": [
       "<tensorflow.python.keras.callbacks.History at 0x7f88b46afdc0>"
      ]
     },
     "execution_count": 25,
     "metadata": {},
     "output_type": "execute_result"
    }
   ],
   "source": [
    "model.fit(train_img,train_labels,epochs=4,initial_epoch=2)"
   ]
  },
  {
   "cell_type": "code",
   "execution_count": null,
   "metadata": {},
   "outputs": [],
   "source": []
  }
 ],
 "metadata": {
  "kernelspec": {
   "display_name": "Python 3",
   "language": "python",
   "name": "python3"
  },
  "language_info": {
   "codemirror_mode": {
    "name": "ipython",
    "version": 3
   },
   "file_extension": ".py",
   "mimetype": "text/x-python",
   "name": "python",
   "nbconvert_exporter": "python",
   "pygments_lexer": "ipython3",
   "version": "3.8.5"
  }
 },
 "nbformat": 4,
 "nbformat_minor": 4
}
