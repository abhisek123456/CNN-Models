{
 "cells": [
  {
   "cell_type": "code",
   "execution_count": 1,
   "metadata": {},
   "outputs": [],
   "source": [
    "import tensorflow as tf\n",
    "from tensorflow import keras"
   ]
  },
  {
   "cell_type": "code",
   "execution_count": 6,
   "metadata": {},
   "outputs": [],
   "source": [
    "(train_img,train_labels),(test_img,test_labels)=keras.datasets.mnist.load_data()"
   ]
  },
  {
   "cell_type": "code",
   "execution_count": 7,
   "metadata": {},
   "outputs": [],
   "source": [
    "train_img=train_img/255.0\n",
    "test_img=test_img/255.0"
   ]
  },
  {
   "cell_type": "code",
   "execution_count": 8,
   "metadata": {},
   "outputs": [
    {
     "data": {
      "text/plain": [
       "(60000, 28, 28)"
      ]
     },
     "execution_count": 8,
     "metadata": {},
     "output_type": "execute_result"
    }
   ],
   "source": [
    "train_img.shape"
   ]
  },
  {
   "cell_type": "code",
   "execution_count": 33,
   "metadata": {},
   "outputs": [],
   "source": [
    "train_img=train_img.reshape(len(train_img),28,28,1)\n",
    "test_img=test_img.reshape(len(test_img),28,28,1)"
   ]
  },
  {
   "cell_type": "code",
   "execution_count": 34,
   "metadata": {},
   "outputs": [],
   "source": [
    "import matplotlib.pyplot as plt\n",
    "def show_data(X, n=10, height=28, width=28, title=\"\"):\n",
    "    plt.figure(figsize=(20, 5))\n",
    "    for i in range(n):\n",
    "        ax = plt.subplot(2,n,i+1)\n",
    "        plt.imshow(X[i].reshape((height,width)))\n",
    "        plt.gray()\n",
    "        ax.get_xaxis().set_visible(False)\n",
    "        ax.get_yaxis().set_visible(False)\n",
    "    plt.suptitle(title, fontsize = 20)"
   ]
  },
  {
   "cell_type": "code",
   "execution_count": 35,
   "metadata": {},
   "outputs": [
    {
     "data": {
      "image/png": "[encoded data removed]",
      "text/plain": [
       "<Figure size 1440x360 with 10 Axes>"
      ]
     },
     "metadata": {
      "needs_background": "light"
     },
     "output_type": "display_data"
    }
   ],
   "source": [
    "show_data(train_img,title=\"Training\")"
   ]
  },
  {
   "cell_type": "code",
   "execution_count": 10,
   "metadata": {},
   "outputs": [],
   "source": [
    "from kerastuner import RandomSearch\n",
    "from kerastuner.engine.hyperparameters import HyperParameters"
   ]
  },
  {
   "cell_type": "code",
   "execution_count": 27,
   "metadata": {},
   "outputs": [],
   "source": [
    "def build_model(hp):\n",
    "    CNN_model=keras.Sequential([\n",
    "        keras.layers.Conv2D(\n",
    "                             filters=hp.Int(\"conv_1_filter\",min_value=32,max_value=128,step=16),\n",
    "                             activation=\"relu\",\n",
    "                             kernel_size=hp.Choice(\"conv_1_kernal_size\", values=[3,5])),\n",
    "        keras.layers.Conv2D(\n",
    "                             filters=hp.Int(\"conv_2_filter\",min_value=32,max_value=64,step=16),\n",
    "                             activation=\"relu\",\n",
    "                             kernel_size=hp.Choice(\"conv_2_kernal_size\", values=[3,5])),\n",
    "        keras.layers.Flatten(),\n",
    "        keras.layers.Dense(\n",
    "                             units=hp.Int(\"Units\",min_value=32,max_value=128,step=16),\n",
    "                             activation=\"relu\"),\n",
    "        keras.layers.Dense(10,activation=\"softmax\") ])\n",
    "    CNN_model.compile(optimizer=keras.optimizers.Adam(hp.Choice(\"Learning_Rate\",values=[.001,.0001])),\n",
    "                     loss=\"sparse_categorical_crossentropy\",\n",
    "                     metrics=[\"accuracy\"])\n",
    "    return CNN_model"
   ]
  },
  {
   "cell_type": "code",
   "execution_count": 28,
   "metadata": {},
   "outputs": [],
   "source": [
    "tuner_search=RandomSearch(hypermodel=build_model,objective=\"accuracy\",max_trials=3,directory=\"output\",\n",
    "                         project_name=\"Mnist\")"
   ]
  },
  {
   "cell_type": "code",
   "execution_count": 29,
   "metadata": {},
   "outputs": [
    {
     "name": "stdout",
     "output_type": "stream",
     "text": [
      "\n",
      "Search: Running Trial #1\n",
      "\n",
      "Hyperparameter    |Value             |Best Value So Far \n",
      "conv_1_filter     |64                |?                 \n",
      "conv_1_kernal_size|3                 |?                 \n",
      "conv_2_filter     |48                |?                 \n",
      "conv_2_kernal_size|5                 |?                 \n",
      "Units             |48                |?                 \n",
      "Learning_Rate     |0.001             |?                 \n",
      "\n",
      "Epoch 1/2\n",
      "1875/1875 [==============================] - 494s 263ms/step - loss: 0.2258 - accuracy: 0.9320\n",
      "Epoch 2/2\n",
      "1875/1875 [==============================] - 506s 270ms/step - loss: 0.0381 - accuracy: 0.9886\n",
      "\n",
      "Trial 1 Complete [00h 16m 39s]\n",
      "accuracy: 0.9886833429336548\n",
      "\n",
      "Best accuracy So Far: 0.9886833429336548\n",
      "Total elapsed time: 00h 16m 39s\n",
      "\n",
      "Search: Running Trial #2\n",
      "\n",
      "Hyperparameter    |Value             |Best Value So Far \n",
      "conv_1_filter     |80                |64                \n",
      "conv_1_kernal_size|3                 |3                 \n",
      "conv_2_filter     |32                |48                \n",
      "conv_2_kernal_size|5                 |5                 \n",
      "Units             |64                |48                \n",
      "Learning_Rate     |0.001             |0.001             \n",
      "\n",
      "Epoch 1/2\n",
      "1875/1875 [==============================] - 484s 258ms/step - loss: 0.2225 - accuracy: 0.9292\n",
      "Epoch 2/2\n",
      "1875/1875 [==============================] - 442s 236ms/step - loss: 0.0346 - accuracy: 0.9896\n",
      "\n",
      "Trial 2 Complete [00h 15m 27s]\n",
      "accuracy: 0.9885666370391846\n",
      "\n",
      "Best accuracy So Far: 0.9886833429336548\n",
      "Total elapsed time: 00h 32m 07s\n",
      "\n",
      "Search: Running Trial #3\n",
      "\n",
      "Hyperparameter    |Value             |Best Value So Far \n",
      "conv_1_filter     |32                |64                \n",
      "conv_1_kernal_size|5                 |3                 \n",
      "conv_2_filter     |48                |48                \n",
      "conv_2_kernal_size|3                 |5                 \n",
      "Units             |64                |48                \n",
      "Learning_Rate     |0.0001            |0.001             \n",
      "\n",
      "Epoch 1/2\n",
      "1875/1875 [==============================] - 114s 61ms/step - loss: 0.4624 - accuracy: 0.8821\n",
      "Epoch 2/2\n",
      "1875/1875 [==============================] - 114s 61ms/step - loss: 0.0718 - accuracy: 0.9776\n",
      "\n",
      "Trial 3 Complete [00h 03m 48s]\n",
      "accuracy: 0.9787999987602234\n",
      "\n",
      "Best accuracy So Far: 0.9886833429336548\n",
      "Total elapsed time: 00h 35m 56s\n",
      "INFO:tensorflow:Oracle triggered exit\n"
     ]
    }
   ],
   "source": [
    "tuner_search.search(train_img,train_labels,epochs=2)"
   ]
  },
  {
   "cell_type": "code",
   "execution_count": 30,
   "metadata": {},
   "outputs": [
    {
     "name": "stdout",
     "output_type": "stream",
     "text": [
      "Results summary\n",
      "Results in output/Mnist\n",
      "Showing 10 best trials\n",
      "Objective(name='accuracy', direction='max')\n",
      "Trial summary\n",
      "Hyperparameters:\n",
      "conv_1_filter: 64\n",
      "conv_1_kernal_size: 3\n",
      "conv_2_filter: 48\n",
      "conv_2_kernal_size: 5\n",
      "Units: 48\n",
      "Learning_Rate: 0.001\n",
      "Score: 0.9886833429336548\n",
      "Trial summary\n",
      "Hyperparameters:\n",
      "conv_1_filter: 80\n",
      "conv_1_kernal_size: 3\n",
      "conv_2_filter: 32\n",
      "conv_2_kernal_size: 5\n",
      "Units: 64\n",
      "Learning_Rate: 0.001\n",
      "Score: 0.9885666370391846\n",
      "Trial summary\n",
      "Hyperparameters:\n",
      "conv_1_filter: 32\n",
      "conv_1_kernal_size: 5\n",
      "conv_2_filter: 48\n",
      "conv_2_kernal_size: 3\n",
      "Units: 64\n",
      "Learning_Rate: 0.0001\n",
      "Score: 0.9787999987602234\n"
     ]
    }
   ],
   "source": [
    "tuner_search.results_summary()"
   ]
  },
  {
   "cell_type": "code",
   "execution_count": 31,
   "metadata": {},
   "outputs": [
    {
     "name": "stdout",
     "output_type": "stream",
     "text": [
      "WARNING:tensorflow:Unresolved object in checkpoint: (root).layer_with_weights-0.kernel\n",
      "WARNING:tensorflow:Unresolved object in checkpoint: (root).layer_with_weights-0.bias\n",
      "WARNING:tensorflow:Unresolved object in checkpoint: (root).layer_with_weights-1.kernel\n",
      "WARNING:tensorflow:Unresolved object in checkpoint: (root).layer_with_weights-1.bias\n",
      "WARNING:tensorflow:Unresolved object in checkpoint: (root).layer_with_weights-2.kernel\n",
      "WARNING:tensorflow:Unresolved object in checkpoint: (root).layer_with_weights-2.bias\n",
      "WARNING:tensorflow:Unresolved object in checkpoint: (root).layer_with_weights-3.kernel\n",
      "WARNING:tensorflow:Unresolved object in checkpoint: (root).layer_with_weights-3.bias\n",
      "WARNING:tensorflow:Unresolved object in checkpoint: (root).optimizer.iter\n",
      "WARNING:tensorflow:Unresolved object in checkpoint: (root).optimizer.beta_1\n",
      "WARNING:tensorflow:Unresolved object in checkpoint: (root).optimizer.beta_2\n",
      "WARNING:tensorflow:Unresolved object in checkpoint: (root).optimizer.decay\n",
      "WARNING:tensorflow:Unresolved object in checkpoint: (root).optimizer.learning_rate\n",
      "WARNING:tensorflow:Unresolved object in checkpoint: (root).optimizer's state 'm' for (root).layer_with_weights-0.kernel\n",
      "WARNING:tensorflow:Unresolved object in checkpoint: (root).optimizer's state 'm' for (root).layer_with_weights-0.bias\n",
      "WARNING:tensorflow:Unresolved object in checkpoint: (root).optimizer's state 'm' for (root).layer_with_weights-1.kernel\n",
      "WARNING:tensorflow:Unresolved object in checkpoint: (root).optimizer's state 'm' for (root).layer_with_weights-1.bias\n",
      "WARNING:tensorflow:Unresolved object in checkpoint: (root).optimizer's state 'm' for (root).layer_with_weights-2.kernel\n",
      "WARNING:tensorflow:Unresolved object in checkpoint: (root).optimizer's state 'm' for (root).layer_with_weights-2.bias\n",
      "WARNING:tensorflow:Unresolved object in checkpoint: (root).optimizer's state 'm' for (root).layer_with_weights-3.kernel\n",
      "WARNING:tensorflow:Unresolved object in checkpoint: (root).optimizer's state 'm' for (root).layer_with_weights-3.bias\n",
      "WARNING:tensorflow:Unresolved object in checkpoint: (root).optimizer's state 'v' for (root).layer_with_weights-0.kernel\n",
      "WARNING:tensorflow:Unresolved object in checkpoint: (root).optimizer's state 'v' for (root).layer_with_weights-0.bias\n",
      "WARNING:tensorflow:Unresolved object in checkpoint: (root).optimizer's state 'v' for (root).layer_with_weights-1.kernel\n",
      "WARNING:tensorflow:Unresolved object in checkpoint: (root).optimizer's state 'v' for (root).layer_with_weights-1.bias\n",
      "WARNING:tensorflow:Unresolved object in checkpoint: (root).optimizer's state 'v' for (root).layer_with_weights-2.kernel\n",
      "WARNING:tensorflow:Unresolved object in checkpoint: (root).optimizer's state 'v' for (root).layer_with_weights-2.bias\n",
      "WARNING:tensorflow:Unresolved object in checkpoint: (root).optimizer's state 'v' for (root).layer_with_weights-3.kernel\n",
      "WARNING:tensorflow:Unresolved object in checkpoint: (root).optimizer's state 'v' for (root).layer_with_weights-3.bias\n",
      "WARNING:tensorflow:A checkpoint was restored (e.g. tf.train.Checkpoint.restore or tf.keras.Model.load_weights) but not all checkpointed values were used. See above for specific issues. Use expect_partial() on the load status object, e.g. tf.train.Checkpoint.restore(...).expect_partial(), to silence these warnings, or use assert_consumed() to make the check explicit. See https://www.tensorflow.org/guide/checkpoint#loading_mechanics for details.\n"
     ]
    }
   ],
   "source": [
    "model=tuner_search.get_best_models(num_models=1)[0]"
   ]
  },
  {
   "cell_type": "code",
   "execution_count": 32,
   "metadata": {},
   "outputs": [
    {
     "name": "stdout",
     "output_type": "stream",
     "text": [
      "Epoch 3/5\n",
      "1875/1875 [==============================] - 469s 250ms/step - loss: 0.0208 - accuracy: 0.9933\n",
      "Epoch 4/5\n",
      "1875/1875 [==============================] - 467s 249ms/step - loss: 0.0122 - accuracy: 0.9957\n",
      "Epoch 5/5\n",
      "1875/1875 [==============================] - 485s 259ms/step - loss: 0.0109 - accuracy: 0.9967\n"
     ]
    },
    {
     "data": {
      "text/plain": [
       "<tensorflow.python.keras.callbacks.History at 0x7f2b3bc4a6d0>"
      ]
     },
     "execution_count": 32,
     "metadata": {},
     "output_type": "execute_result"
    }
   ],
   "source": [
    "model.fit(train_img,train_labels,epochs=5,initial_epoch=2)"
   ]
  },
  {
   "cell_type": "code",
   "execution_count": null,
   "metadata": {},
   "outputs": [],
   "source": []
  }
 ],
 "metadata": {
  "kernelspec": {
   "display_name": "Python 3",
   "language": "python",
   "name": "python3"
  },
  "language_info": {
   "codemirror_mode": {
    "name": "ipython",
    "version": 3
   },
   "file_extension": ".py",
   "mimetype": "text/x-python",
   "name": "python",
   "nbconvert_exporter": "python",
   "pygments_lexer": "ipython3",
   "version": "3.8.5"
  }
 },
 "nbformat": 4,
 "nbformat_minor": 4
}
